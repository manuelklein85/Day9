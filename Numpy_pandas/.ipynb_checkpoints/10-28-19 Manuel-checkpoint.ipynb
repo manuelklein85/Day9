{
 "cells": [
  {
   "cell_type": "markdown",
   "metadata": {},
   "source": [
    "1. What is linear regression?\n",
    "Linear regression is a means to show the dependency between one dependent and one or more independet variables. This dependency is aproximated as good as possible by a line. \n",
    "\n",
    "Multiple parameters describe the quality of the fit, e.g. variance or R**2\n",
    "\n",
    "Linear regression can also be used in order to make predictions.\n"
   ]
  },
  {
   "cell_type": "markdown",
   "metadata": {},
   "source": [
    "2. What is multiple regression?\n",
    "Multiple regression is the more general case of linear regression. Several parameters, used as independent variables, describe the dependet variable."
   ]
  },
  {
   "cell_type": "markdown",
   "metadata": {},
   "source": []
  }
 ],
 "metadata": {
  "kernelspec": {
   "display_name": "Python [conda env:nf] *",
   "language": "python",
   "name": "conda-env-nf-py"
  },
  "language_info": {
   "codemirror_mode": {
    "name": "ipython",
    "version": 3
   },
   "file_extension": ".py",
   "mimetype": "text/x-python",
   "name": "python",
   "nbconvert_exporter": "python",
   "pygments_lexer": "ipython3",
   "version": "3.6.6"
  }
 },
 "nbformat": 4,
 "nbformat_minor": 2
}
