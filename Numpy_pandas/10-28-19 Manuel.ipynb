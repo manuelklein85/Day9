{
 "cells": [
  {
   "cell_type": "markdown",
   "metadata": {},
   "source": [
    "1. What is (simple) linear regression?\n",
    "\n",
    "Simple linear regression is a means to show the dependency between one dependent and one independent (explanatory) variable. Basis for the linear regression is a dataset containing several observations for the explanatory variable. Aim is to to find a regression line that can be plotted through the dataset that minimizes the square sum of the distances between data points and regression line (OLS = Ordinary Least Squares).\n",
    "\n",
    "The generic formula for the regression line is y = a + b*x\n",
    "\n",
    "The regression delivers the values for a (y-intercept) and b (slope of the regression line). Multiple statistical parameters are used to describe the quality of the fit, e.g. R square, which is the amount of variance explained by the explanatory variable.\n",
    "\n",
    "Once the parameters for the linear regression line are known, this function can be used in order to make predictions for further data of the expanatory variable.\n"
   ]
  },
  {
   "cell_type": "markdown",
   "metadata": {},
   "source": [
    "2. What is multiple linear regression?\n",
    "\n",
    "Multiple linear regression is the more general case of linear regression. Several independent (explanatory) variables describe together the dependent variable.\n",
    "\n",
    "In this case the formula is as followed: y = a + b1*x + b2*x + ... + bn*x"
   ]
  },
  {
   "cell_type": "markdown",
   "metadata": {},
   "source": []
  }
 ],
 "metadata": {
  "kernelspec": {
   "display_name": "Python [conda env:nf] *",
   "language": "python",
   "name": "conda-env-nf-py"
  },
  "language_info": {
   "codemirror_mode": {
    "name": "ipython",
    "version": 3
   },
   "file_extension": ".py",
   "mimetype": "text/x-python",
   "name": "python",
   "nbconvert_exporter": "python",
   "pygments_lexer": "ipython3",
   "version": "3.6.6"
  }
 },
 "nbformat": 4,
 "nbformat_minor": 2
}
